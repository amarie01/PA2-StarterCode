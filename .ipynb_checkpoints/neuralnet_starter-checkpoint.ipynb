{
 "cells": [
  {
   "cell_type": "code",
   "execution_count": 1,
   "metadata": {},
   "outputs": [],
   "source": [
    "import numpy as np\n",
    "import pickle"
   ]
  },
  {
   "cell_type": "code",
   "execution_count": 8,
   "metadata": {
    "collapsed": true
   },
   "outputs": [],
   "source": [
    "config = {}\n",
    "\n",
    "config['layer_specs'] = [784, 100, 100, 10]  # The length of list denotes number of hidden layers; each element denotes number of neurons in that layer; first element is the size of input layer, last element is the size of output layer.\n",
    "config['activation'] = 'sigmoid' # Takes values 'sigmoid', 'tanh' or 'ReLU'; denotes activation function for hidden layers\n",
    "config['batch_size'] = 1000  # Number of training samples per batch to be passed to network\n",
    "config['epochs'] = 50  # Number of epochs to train the model\n",
    "config['early_stop'] = True  # Implement early stopping or not\n",
    "config['early_stop_epoch'] = 5  # Number of epochs for which validation loss increases to be counted as overfitting\n",
    "config['L2_penalty'] = 0  # Regularization constant\n",
    "config['momentum'] = False  # Denotes if momentum is to be applied or not\n",
    "config['momentum_gamma'] = 0.9  # Denotes the constant 'gamma' in momentum expression\n",
    "config['learning_rate'] = 0.0001 # Learning rate of gradient descent algorithm\n"
   ]
  },
  {
   "cell_type": "code",
   "execution_count": 3,
   "metadata": {
    "collapsed": true
   },
   "outputs": [],
   "source": [
    "def softmax(x):\n",
    "    \"\"\"\n",
    "    Write the code for softmax activation function that takes in a numpy array and returns a numpy array.\n",
    "    \"\"\"\n",
    "    return output"
   ]
  },
  {
   "cell_type": "code",
   "execution_count": 4,
   "metadata": {
    "collapsed": true
   },
   "outputs": [],
   "source": [
    "def load_data(fname):\n",
    "    data = pickle.load(open(fname, \"rb\"))\n",
    "    \n",
    "    images = data[:, :784]\n",
    "    labels = data[:, 784]\n",
    "    \n",
    "    one_hot = np.zeros((labels.shape[0], 10))\n",
    "    \n",
    "    # Encode labels (0-9) to a one-hot encoding\n",
    "    for i in range(one_hot.shape[0]):\n",
    "        one_hot[i][int(labels[i])] = 1\n",
    "        \n",
    "    labels = one_hot\n",
    "    \n",
    "    return images, labels"
   ]
  },
  {
   "cell_type": "code",
   "execution_count": 21,
   "metadata": {},
   "outputs": [
    {
     "name": "stdout",
     "output_type": "stream",
     "text": [
      "[0.76159416 0.96402758 0.99505475 0.9993293 ]\n"
     ]
    }
   ],
   "source": [
    "X = np.array([1, 2, 3, 4])\n",
    "\n",
    "def sigmoid(x):\n",
    "    return np.tanh(x)\n",
    "\n",
    "grad = sigmoid(X) * (1 - sigmoid(X))\n",
    "\n",
    "print((sigmoid(X)))"
   ]
  },
  {
   "cell_type": "code",
   "execution_count": 41,
   "metadata": {},
   "outputs": [
    {
     "name": "stdout",
     "output_type": "stream",
     "text": [
      "[10. 10. 10.]\n"
     ]
    }
   ],
   "source": [
    "x = np.ones((10))\n",
    "w = np.ones((10,3))\n",
    "\n",
    "\n",
    "print((np.matmul(w.T,x)))"
   ]
  },
  {
   "cell_type": "code",
   "execution_count": 13,
   "metadata": {
    "collapsed": true
   },
   "outputs": [],
   "source": [
    "class Activation:\n",
    "    def __init__(self, activation_type = \"sigmoid\"):\n",
    "        self.activation_type = activation_type\n",
    "        self.x = None # Save the input 'x' for sigmoid or tanh or ReLU to this variable since it will be used later for computing gradients.\n",
    "  \n",
    "    def forward_pass(self, a):\n",
    "        if self.activation_type == \"sigmoid\":\n",
    "            return self.sigmoid(a)\n",
    "    \n",
    "        elif self.activation_type == \"tanh\":\n",
    "            return self.tanh(a)\n",
    "    \n",
    "        elif self.activation_type == \"ReLU\":\n",
    "            return self.relu(a)\n",
    "        )\n",
    "    def backward_pass(self, delta):\n",
    "        if self.activation_type == \"sigmoid\":\n",
    "            grad = self.grad_sigmoid()\n",
    "    \n",
    "        elif self.activation_type == \"tanh\":\n",
    "            grad = self.grad_tanh()\n",
    "    \n",
    "        elif self.activation_type == \"ReLU\":\n",
    "            grad = self.grad_ReLU()\n",
    "    \n",
    "        return grad * delta\n",
    "      \n",
    "    def sigmoid(self, x):\n",
    "        self.x = x\n",
    "        return 1.0 / (1.0 + np.exp(x)) \n",
    "\n",
    "    def tanh(self, x):\n",
    "        self.x = x\n",
    "        return np.tanh(x)\n",
    "\n",
    "    def ReLU(self, x):\n",
    "        \"\"\"\n",
    "        Write the code for ReLU activation function that takes in a numpy array and returns a numpy array.\n",
    "        \"\"\"\n",
    "        self.x = x\n",
    "        return output\n",
    "\n",
    "    def grad_sigmoid(self):\n",
    "        return sigmoid(self, self.x) * (1 - sigmoid(self, self.x))\n",
    "\n",
    "    def grad_tanh(self):\n",
    "        return 1 - np.power(tanh(self, self.x), 2)\n",
    "\n",
    "    def grad_ReLU(self):\n",
    "        \"\"\"\n",
    "        Write the code for gradient through ReLU activation function that takes in a numpy array and returns a numpy array.\n",
    "        \"\"\"\n",
    "        return grad\n",
    "\n",
    "\n",
    "class Layer():\n",
    "    def __init__(self, in_units, out_units):\n",
    "        np.random.seed(42)\n",
    "        self.w = np.random.randn(in_units, out_units)  # Weight matrix\n",
    "        self.b = np.zeros((1, out_units)).astype(np.float32)  # Bias\n",
    "        self.x = None  # Save the input to forward_pass in this\n",
    "        self.a = None  # Save the output of forward pass in this (without activation)\n",
    "        self.d_x = None  # Save the gradient w.r.t x in this\n",
    "        self.d_w = None  # Save the gradient w.r.t w in this\n",
    "        self.d_b = None  # Save the gradient w.r.t b in this\n",
    "\n",
    "    def forward_pass(self, x):\n",
    "        self.x = x\n",
    "        self.a = np.matmul(self.w.T, self.x)\n",
    "        self.a += self.b\n",
    "        \n",
    "        return self.a\n",
    "  \n",
    "    def backward_pass(self, delta):\n",
    "        \"\"\"\n",
    "        Write the code for backward pass. This takes in gradient from its next layer as input,\n",
    "        computes gradient for its weights and the delta to pass to its previous layers.\n",
    "        \"\"\"\n",
    "        return self.d_x\n",
    "\n",
    "      \n",
    "class Neuralnetwork():\n",
    "    def __init__(self, config):\n",
    "        self.layers = []\n",
    "        self.x = None  # Save the input to forward_pass in this\n",
    "        self.y = None  # Save the output vector of model in this\n",
    "        self.targets = None  # Save the targets in forward_pass in this variable\n",
    "        \n",
    "        for i in range(len(config['layer_specs']) - 1):\n",
    "            self.layers.append( Layer(config['layer_specs'][i], config['layer_specs'][i+1]) )\n",
    "            \n",
    "            if i < len(config['layer_specs']) - 2:\n",
    "                self.layers.append(Activation(config['activation']))  \n",
    "    \n",
    "    def forward_pass(self, x, targets=None):\n",
    "        \"\"\"\n",
    "        Write the code for forward pass through all layers of the model and return loss and predictions.\n",
    "        If targets == None, loss should be None. If not, then return the loss computed.\n",
    "        \"\"\"\n",
    "        self.x = x\n",
    "        return loss, self.y\n",
    "\n",
    "    def loss_func(self, logits, targets):\n",
    "        '''\n",
    "        find cross entropy loss between logits and targets\n",
    "        '''\n",
    "        return output\n",
    "    \n",
    "    def backward_pass(self):\n",
    "        '''\n",
    "        implement the backward pass for the whole network. \n",
    "        hint - use previously built functions.\n",
    "        '''\n"
   ]
  },
  {
   "cell_type": "code",
   "execution_count": 6,
   "metadata": {
    "collapsed": true
   },
   "outputs": [],
   "source": [
    "      \n",
    "def trainer(model, X_train, y_train, X_valid, y_valid, config):\n",
    "    \"\"\"\n",
    "    Write the code to train the network. Use values from config to set parameters\n",
    "    such as L2 penalty, number of epochs, momentum, etc.\n",
    "    \"\"\"\n",
    "\n",
    "def test(model, X_test, y_test, config):\n",
    "    \"\"\"\n",
    "    Write code to run the model on the data passed as input and return accuracy.\n",
    "    \"\"\"\n",
    "    return accuracy"
   ]
  },
  {
   "cell_type": "code",
   "execution_count": null,
   "metadata": {
    "collapsed": true
   },
   "outputs": [],
   "source": [
    "test_acts = Activation()"
   ]
  },
  {
   "cell_type": "code",
   "execution_count": 7,
   "metadata": {},
   "outputs": [
    {
     "ename": "NameError",
     "evalue": "name 'accuracy' is not defined",
     "output_type": "error",
     "traceback": [
      "\u001b[0;31m---------------------------------------------------------------------------\u001b[0m",
      "\u001b[0;31mNameError\u001b[0m                                 Traceback (most recent call last)",
      "\u001b[0;32m<ipython-input-7-0c210af52777>\u001b[0m in \u001b[0;36m<module>\u001b[0;34m\u001b[0m\n\u001b[1;32m     10\u001b[0m     \u001b[0mX_test\u001b[0m\u001b[0;34m,\u001b[0m \u001b[0my_test\u001b[0m \u001b[0;34m=\u001b[0m \u001b[0mload_data\u001b[0m\u001b[0;34m(\u001b[0m\u001b[0mtest_data_fname\u001b[0m\u001b[0;34m)\u001b[0m\u001b[0;34m\u001b[0m\u001b[0m\n\u001b[1;32m     11\u001b[0m     \u001b[0mtrainer\u001b[0m\u001b[0;34m(\u001b[0m\u001b[0mmodel\u001b[0m\u001b[0;34m,\u001b[0m \u001b[0mX_train\u001b[0m\u001b[0;34m,\u001b[0m \u001b[0my_train\u001b[0m\u001b[0;34m,\u001b[0m \u001b[0mX_valid\u001b[0m\u001b[0;34m,\u001b[0m \u001b[0my_valid\u001b[0m\u001b[0;34m,\u001b[0m \u001b[0mconfig\u001b[0m\u001b[0;34m)\u001b[0m\u001b[0;34m\u001b[0m\u001b[0m\n\u001b[0;32m---> 12\u001b[0;31m     \u001b[0mtest_acc\u001b[0m \u001b[0;34m=\u001b[0m \u001b[0mtest\u001b[0m\u001b[0;34m(\u001b[0m\u001b[0mmodel\u001b[0m\u001b[0;34m,\u001b[0m \u001b[0mX_test\u001b[0m\u001b[0;34m,\u001b[0m \u001b[0my_test\u001b[0m\u001b[0;34m,\u001b[0m \u001b[0mconfig\u001b[0m\u001b[0;34m)\u001b[0m\u001b[0;34m\u001b[0m\u001b[0m\n\u001b[0m",
      "\u001b[0;32m<ipython-input-6-0942e694dd30>\u001b[0m in \u001b[0;36mtest\u001b[0;34m(model, X_test, y_test, config)\u001b[0m\n\u001b[1;32m     10\u001b[0m     \u001b[0mWrite\u001b[0m \u001b[0mcode\u001b[0m \u001b[0mto\u001b[0m \u001b[0mrun\u001b[0m \u001b[0mthe\u001b[0m \u001b[0mmodel\u001b[0m \u001b[0mon\u001b[0m \u001b[0mthe\u001b[0m \u001b[0mdata\u001b[0m \u001b[0mpassed\u001b[0m \u001b[0;32mas\u001b[0m \u001b[0minput\u001b[0m \u001b[0;32mand\u001b[0m \u001b[0;32mreturn\u001b[0m \u001b[0maccuracy\u001b[0m\u001b[0;34m.\u001b[0m\u001b[0;34m\u001b[0m\u001b[0m\n\u001b[1;32m     11\u001b[0m     \"\"\"\n\u001b[0;32m---> 12\u001b[0;31m     \u001b[0;32mreturn\u001b[0m \u001b[0maccuracy\u001b[0m\u001b[0;34m\u001b[0m\u001b[0m\n\u001b[0m",
      "\u001b[0;31mNameError\u001b[0m: name 'accuracy' is not defined"
     ]
    }
   ],
   "source": [
    "if __name__ == \"__main__\":\n",
    "    train_data_fname = 'MNIST_train.pkl'\n",
    "    valid_data_fname = 'MNIST_valid.pkl'\n",
    "    test_data_fname = 'MNIST_test.pkl'\n",
    "  \n",
    "    ### Train the network ###\n",
    "    model = Neuralnetwork(config)\n",
    "    X_train, y_train = load_data(train_data_fname)\n",
    "    X_valid, y_valid = load_data(valid_data_fname)\n",
    "    X_test, y_test = load_data(test_data_fname)\n",
    "    trainer(model, X_train, y_train, X_valid, y_valid, config)\n",
    "    test_acc = test(model, X_test, y_test, config)"
   ]
  },
  {
   "cell_type": "code",
   "execution_count": 16,
   "metadata": {},
   "outputs": [
    {
     "name": "stdout",
     "output_type": "stream",
     "text": [
      "sigmoid\n"
     ]
    }
   ],
   "source": [
    "test_sig = Activation()\n",
    "\n",
    "print (test_sig.activation_type)"
   ]
  },
  {
   "cell_type": "code",
   "execution_count": null,
   "metadata": {
    "collapsed": true
   },
   "outputs": [],
   "source": []
  }
 ],
 "metadata": {
  "kernelspec": {
   "display_name": "Python 3",
   "language": "python",
   "name": "python3"
  },
  "language_info": {
   "codemirror_mode": {
    "name": "ipython",
    "version": 3
   },
   "file_extension": ".py",
   "mimetype": "text/x-python",
   "name": "python",
   "nbconvert_exporter": "python",
   "pygments_lexer": "ipython3",
   "version": "3.6.5"
  }
 },
 "nbformat": 4,
 "nbformat_minor": 2
}
